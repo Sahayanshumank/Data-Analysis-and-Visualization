{
 "cells": [
  {
   "cell_type": "code",
   "execution_count": 1,
   "id": "0d368c93-b71e-4268-ab4f-58cb181d5713",
   "metadata": {},
   "outputs": [
    {
     "name": "stdout",
     "output_type": "stream",
     "text": [
      "Hello World\n"
     ]
    }
   ],
   "source": [
    "print(\"Hello World\")"
   ]
  },
  {
   "cell_type": "code",
   "execution_count": 2,
   "id": "a21231e7-f409-4eb7-a8cd-36f5717466da",
   "metadata": {},
   "outputs": [],
   "source": [
    "import numpy as np # type: ignore"
   ]
  },
  {
   "cell_type": "code",
   "execution_count": 3,
   "id": "bcabda6b",
   "metadata": {},
   "outputs": [
    {
     "name": "stdout",
     "output_type": "stream",
     "text": [
      "[[42 37 83 99 80  0 15 38 86 65]\n",
      " [73 33 81 24 61 18 14 97 13 83]\n",
      " [40 38 64 95 60 97 47 92 30 30]\n",
      " [35  7 16 12 19 38 79 83 26 70]\n",
      " [56 68 94 65 80 39 63 23 61 72]\n",
      " [39 37 18 46 45 65 96 14 19  4]\n",
      " [76 14 94 19  6 57 42 17 72 67]\n",
      " [99 80 33 45 92 44 25 75 80 58]\n",
      " [70 63  3 11  1 56 38  2 45 35]\n",
      " [38 16 81 63 72 26 17 67 99 68]]\n"
     ]
    }
   ],
   "source": [
    "data = np.random.randint(0, 100,size=(10,10))\n",
    "print(data)"
   ]
  },
  {
   "cell_type": "code",
   "execution_count": 4,
   "id": "d2990636",
   "metadata": {},
   "outputs": [
    {
     "name": "stdout",
     "output_type": "stream",
     "text": [
      "49.9\n",
      "45.5\n",
      "28.663042406555522\n",
      "821.5700000000002\n",
      "0\n",
      "99\n",
      "24.75\n"
     ]
    }
   ],
   "source": [
    "print(np.mean(data))\n",
    "print(np.median(data))\n",
    "print(np.std(data))\n",
    "print(np.var(data))\n",
    "print(np.min(data))\n",
    "print(np.max(data))\n",
    "print(np.percentile(data, 25))\n",
    "\n",
    "\n"
   ]
  },
  {
   "cell_type": "code",
   "execution_count": null,
   "id": "ba77fe87",
   "metadata": {},
   "outputs": [],
   "source": []
  }
 ],
 "metadata": {
  "kernelspec": {
   "display_name": "venv",
   "language": "python",
   "name": "python3"
  },
  "language_info": {
   "codemirror_mode": {
    "name": "ipython",
    "version": 3
   },
   "file_extension": ".py",
   "mimetype": "text/x-python",
   "name": "python",
   "nbconvert_exporter": "python",
   "pygments_lexer": "ipython3",
   "version": "3.12.9"
  }
 },
 "nbformat": 4,
 "nbformat_minor": 5
}
